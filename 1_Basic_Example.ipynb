{
 "cells": [
  {
   "cell_type": "markdown",
   "metadata": {},
   "source": [
    "# Make Moons Example"
   ]
  },
  {
   "cell_type": "code",
   "execution_count": null,
   "metadata": {},
   "outputs": [],
   "source": [
    "# import packages\n",
    "%matplotlib inline\n",
    "import nnet\n",
    "import numpy as np\n",
    "import matplotlib.pyplot as plt\n",
    "from sklearn.datasets import make_moons\n",
    "from sklearn.model_selection import train_test_split\n",
    "from sklearn.metrics import f1_score"
   ]
  },
  {
   "cell_type": "code",
   "execution_count": null,
   "metadata": {},
   "outputs": [],
   "source": [
    "def plot_data_set(X, y, axes):\n",
    "    plt.figure(\"Make Moon Data\")\n",
    "    plt.plot(X[:, 0][y==0], X[:, 1][y==0], \"rs\")\n",
    "    plt.plot(X[:, 0][y==1], X[:, 1][y==1], \"bo\")\n",
    "    plt.axis(axes)\n",
    "    plt.grid(True, which='both')\n",
    "    plt.xlabel(r\"$x_1$\", fontsize=20)\n",
    "    plt.ylabel(r\"$x_2$\", fontsize=20, rotation=0)\n",
    "    plt.show()\n",
    "\n",
    "\n",
    "def plot_prediction(X, y, y_pred, axes):\n",
    "    plt.figure(\"Predicted Results vs Real\")\n",
    "    plt.plot(X[:, 0][y==0], X[:, 1][y==0], \"rs\")\n",
    "    plt.plot(X[:, 0][y==1], X[:, 1][y==1], \"bo\")\n",
    "    plt.plot(X[:, 0][y_pred == 0], X[:, 1][y_pred == 0], \"rx\")\n",
    "    plt.plot(X[:, 0][y_pred == 1], X[:, 1][y_pred == 1], \"b+\")\n",
    "    plt.axis(axes)\n",
    "    plt.grid(True, which='both')\n",
    "    plt.xlabel(r\"$x_1$\", fontsize=20)\n",
    "    plt.ylabel(r\"$x_2$\", fontsize=20, rotation=0)\n",
    "    plt.show()\n",
    "    \n",
    "    \n",
    "def plot_cost(costs):\n",
    "    # Make an agg figure\n",
    "    fig, ax = plt.subplots()\n",
    "    ax.plot(costs)\n",
    "    ax.set_title('Loss Over Epochs')\n",
    "    fig.canvas.draw()\n",
    "    # Grab the pixel buffer and dump it into a numpy array\n",
    "    X = np.array(fig.canvas.renderer._renderer)\n",
    "    # Now display the array X as an Axes in a new figure\n",
    "    plt.show()"
   ]
  },
  {
   "cell_type": "code",
   "execution_count": null,
   "metadata": {},
   "outputs": [],
   "source": [
    "X, y = make_moons(n_samples=1000, noise=0.3, random_state=42)\n",
    "X_train, X_test, y_train, y_test = train_test_split(X, y, test_size=0.33, random_state=42)\n",
    "# scatter plot, dots colored by class value\n",
    "plot_data_set(X, y, [-1.5, 2.5, -1, 1.5])"
   ]
  },
  {
   "cell_type": "code",
   "execution_count": null,
   "metadata": {},
   "outputs": [],
   "source": [
    "# Creating the optimizer, regularization, and loss function \n",
    "optimizer = nnet.Adam(learning_rate=0.001)\n",
    "regulizer = nnet.L2Regularization(lamda=0.5)\n",
    "loss_func = nnet.CrossEntropyLoss()\n",
    "# Creating new neural network\n",
    "newNet = nnet.Net(regularization=regulizer, optimizer=optimizer, cost_function=loss_func)\n",
    "# Adding input placeholder, which have the basic shape of the features of the input data\n",
    "input = newNet.input_placeholder(shape=(2, None))\n",
    "# Just showing all activations\n",
    "hidden1 = newNet.dense(input, numOfUnits=15, activation=nnet.Elu())\n",
    "hidden2 = newNet.dense(hidden1, numOfUnits=10, activation=nnet.LeakyRelu())\n",
    "hidden3 = newNet.dense(hidden2, numOfUnits=8, activation=nnet.Relu())\n",
    "hidden4 = newNet.dense(hidden3, numOfUnits=5, activation=nnet.Tanh())\n",
    "output = newNet.dense(hidden4, numOfUnits=1, activation=nnet.Sigmoid())"
   ]
  },
  {
   "cell_type": "code",
   "execution_count": null,
   "metadata": {},
   "outputs": [],
   "source": [
    "num_epochs = 500\n",
    "\n",
    "costs = []\n",
    "# Training for num_epochs\n",
    "for epoch in range(num_epochs):\n",
    "    _, loss = newNet.train(np.array(X_train).T, np.array(y_train).T)\n",
    "    costs.append(loss)\n",
    "    if( epoch % 50 == 0):\n",
    "        print(\"------ Epoch: \", epoch, \" ------\")\n",
    "        print(\"Corss entropy Loss: \", loss)\n",
    "        print(\"----------------------------\")"
   ]
  },
  {
   "cell_type": "code",
   "execution_count": null,
   "metadata": {},
   "outputs": [],
   "source": [
    "# Predict using trained neural net\n",
    "pred_y = newNet.predict(np.array(X_test).T)\n",
    "pred_y = np.reshape(pred_y, (pred_y.shape[0],))\n",
    "\n",
    "# If Prediction is over .5 then class 1\n",
    "pred_y[pred_y >= .5] = 1\n",
    "pred_y[pred_y < .5] = 0\n",
    "\n",
    "print(\"Incorrect Predictions: \", X_test[:, :][y_test != pred_y])\n",
    "print(\"F1 score: \", f1_score(y_test, pred_y))\n",
    "plot_prediction(X_test, y_test, pred_y, [-1.5, 2.5, -1, 1.5])"
   ]
  },
  {
   "cell_type": "code",
   "execution_count": null,
   "metadata": {},
   "outputs": [],
   "source": [
    "plot_cost(costs)"
   ]
  }
 ],
 "metadata": {
  "kernelspec": {
   "display_name": "Python 2",
   "language": "python",
   "name": "python2"
  },
  "language_info": {
   "codemirror_mode": {
    "name": "ipython",
    "version": 2
   },
   "file_extension": ".py",
   "mimetype": "text/x-python",
   "name": "python",
   "nbconvert_exporter": "python",
   "pygments_lexer": "ipython2",
   "version": "2.7.6"
  }
 },
 "nbformat": 4,
 "nbformat_minor": 0
}
